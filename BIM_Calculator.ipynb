{
  "nbformat": 4,
  "nbformat_minor": 0,
  "metadata": {
    "colab": {
      "provenance": []
    },
    "kernelspec": {
      "name": "python3",
      "display_name": "Python 3"
    },
    "language_info": {
      "name": "python"
    }
  },
  "cells": [
    {
      "cell_type": "code",
      "execution_count": 7,
      "metadata": {
        "colab": {
          "base_uri": "https://localhost:8080/"
        },
        "id": "hyYA8P4303w9",
        "outputId": "00c82064-2225-4116-a28c-263e85e209af"
      },
      "outputs": [
        {
          "output_type": "stream",
          "name": "stdout",
          "text": [
            "Enter you name: Hamza\n",
            "Enter your weight in pounds :134\n",
            "Enter your height in inches :70\n",
            "19.224897959183675\n",
            "Hamza, you are normal weight.\n"
          ]
        }
      ],
      "source": [
        "name = input(\"Enter you name: \")\n",
        "\n",
        "weight=int(input(\"Enter your weight in pounds :\"))\n",
        "\n",
        "height=int(input(\"Enter your height in inches :\"))\n",
        "\n",
        "BMI=(weight*703)/(height*height)\n",
        "\n",
        "print(BMI)\n",
        "\n",
        "classification_of_BMI(BMI,name)"
      ]
    },
    {
      "cell_type": "code",
      "source": [
        "def classification_of_BMI(BMI, name):\n",
        "    if BMI > 0:\n",
        "        if BMI < 18.5:\n",
        "            print(name + \", you are underweight.\")\n",
        "        elif BMI <= 24.9:\n",
        "            print(name + \", you are normal weight.\")\n",
        "        elif BMI < 29.9:\n",
        "            print(name + \", you are overweight. You need to exercise more and stop sitting and writing so many python tutorials.\")\n",
        "        elif BMI < 34.9:\n",
        "            print(name + \", you are obese.\")\n",
        "        elif BMI < 39.9:\n",
        "            print(name + \", you are severely obese.\")\n",
        "        else:\n",
        "            print(name + \", you are morbidly obese.\")\n",
        "    else:\n",
        "        print(\"Enter valid input\")\n"
      ],
      "metadata": {
        "id": "qrNiXo4u4Tqx"
      },
      "execution_count": 5,
      "outputs": []
    }
  ]
}